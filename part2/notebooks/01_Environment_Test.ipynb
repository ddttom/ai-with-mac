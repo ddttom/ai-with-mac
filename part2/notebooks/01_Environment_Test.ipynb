{
 "cells": [
  {
   "cell_type": "markdown",
   "metadata": {},
   "source": [
    "# Environment Test Notebook\n",
    "\n",
    "This notebook verifies that our Jupyter environment is properly configured for AI development."
   ]
  },
  {
   "cell_type": "code",
   "execution_count": null,
   "metadata": {},
   "outputs": [],
   "source": [
    "import sys\n",
    "import platform\n",
    "\n",
    "print(f\"Python version: {sys.version}\")\n",
    "print(f\"Platform: {platform.platform()}\")"
   ]
  },
  {
   "cell_type": "code",
   "execution_count": null,
   "metadata": {},
   "outputs": [],
   "source": [
    "# Test NumPy\n",
    "import numpy as np\n",
    "\n",
    "# Create and display a random array\n",
    "arr = np.random.randn(5, 5)\n",
    "print(\"Random 5x5 array:\")\n",
    "arr"
   ]
  },
  {
   "cell_type": "code",
   "execution_count": null,
   "metadata": {},
   "outputs": [],
   "source": [
    "# Test Matplotlib\n",
    "import matplotlib.pyplot as plt\n",
    "\n",
    "plt.figure(figsize=(10, 6))\n",
    "plt.plot(np.random.randn(100).cumsum())\n",
    "plt.title('Random Walk')\n",
    "plt.xlabel('Step')\n",
    "plt.ylabel('Position')\n",
    "plt.grid(True)\n",
    "plt.show()"
   ]
  },
  {
   "cell_type": "markdown",
   "metadata": {},
   "source": [
    "## Environment Verification\n",
    "\n",
    "If you can see the random array and plot above, your Jupyter environment is working correctly!\n",
    "\n",
    "In the next notebooks, we'll dive into more complex AI tasks."
   ]
  },
  {
   "cell_type": "code",
   "execution_count": null,
   "metadata": {},
   "outputs": [],
   "source": [
    "# Check for additional libraries\n",
    "try:\n",
    "    import pandas as pd\n",
    "    print(\"✅ pandas is installed\")\n",
    "except ImportError:\n",
    "    print(\"❌ pandas is not installed\")\n",
    "    \n",
    "try:\n",
    "    import torch\n",
    "    print(\"✅ PyTorch is installed\")\n",
    "    print(f\"PyTorch version: {torch.__version__}\")\n",
    "    print(f\"CUDA available: {torch.cuda.is_available()}\")\n",
    "    print(f\"MPS (Metal) available: {hasattr(torch.backends, 'mps') and torch.backends.mps.is_available()}\")\n",
    "except ImportError:\n",
    "    print(\"❌ PyTorch is not installed\")\n",
    "    \n",
    "try:\n",
    "    import mlx.core\n",
    "    print(\"✅ MLX is installed\")\n",
    "except ImportError:\n",
    "    print(\"❌ MLX is not installed\")"
   ]
  }
 ],
 "metadata": {
  "kernelspec": {
   "display_name": "Python 3",
   "language": "python",
   "name": "python3"
  },
  "language_info": {
   "codemirror_mode": {
    "name": "ipython",
    "version": 3
   },
   "file_extension": ".py",
   "mimetype": "text/x-python",
   "name": "python",
   "nbconvert_exporter": "python",
   "pygments_lexer": "ipython3",
   "version": "3.9.7"
  }
 },
 "nbformat": 4,
 "nbformat_minor": 4
}
