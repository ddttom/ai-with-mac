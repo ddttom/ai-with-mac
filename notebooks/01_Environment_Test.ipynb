{
 "cells": [
  {
   "cell_type": "markdown",
   "metadata": {},
   "source": [
    "# Environment Test Notebook\n",
    "\n",
    "Verify that our Jupyter environment is properly configured for AI development"
   ]
  },
  {
   "cell_type": "code",
   "execution_count": null,
   "metadata": {},
   "outputs": [],
   "source": [
    "# Import standard libraries\n",
    "import sys\n",
    "import platform\n",
    "\n",
    "# Print environment information\n",
    "print(f\"Python version: {sys.version}\")\n",
    "print(f\"Platform: {platform.platform()}\")"
   ]
  },
  {
   "cell_type": "code",
   "execution_count": null,
   "metadata": {},
   "outputs": [],
   "source": [
    "# Test NumPy\n",
    "try:\n",
    "    import numpy as np\n",
    "    print(f\"NumPy version: {np.__version__}\")\n",
    "except ImportError:\n",
    "    print(\"ERROR: NumPy is not installed. Please install with: pip install numpy\")\n",
    "    raise\n",
    "\n",
    "# Create and display a random array\n",
    "arr = np.random.randn(5, 5)\n",
    "print(\"Random 5x5 array:\")\n",
    "arr"
   ]
  },
  {
   "cell_type": "code",
   "execution_count": null,
   "metadata": {},
   "outputs": [],
   "source": [
    "# Test Matplotlib\n",
    "try:\n",
    "    import matplotlib.pyplot as plt\n",
    "    print(f\"Matplotlib version: {plt.__version__}\")\n",
    "except ImportError:\n",
    "    print(\"ERROR: Matplotlib is not installed. Please install with: pip install matplotlib\")\n",
    "    raise\n",
    "\n",
    "# Create a sample plot\n",
    "plt.figure(figsize=(10, 6))\n",
    "plt.plot(np.random.randn(100).cumsum())\n",
    "plt.title('Random Walk')\n",
    "plt.xlabel('Step')\n",
    "plt.ylabel('Position')\n",
    "plt.grid(True)\n",
    "plt.show()"
   ]
  },
  {
   "cell_type": "markdown",
   "metadata": {},
   "source": [
    "## Environment Verification\n",
    "\n",
    "If you can see the random array and plot above, your Jupyter environment is working correctly!\n",
    "\n",
    "In the next notebooks, we'll dive into more complex AI tasks."
   ]
  }
 ],
 "metadata": {
  "kernelspec": {
   "display_name": "mlx-env",
   "language": "python",
   "name": "python3"
  },
  "language_info": {
   "codemirror_mode": {
    "name": "ipython",
    "version": 3
   },
   "file_extension": ".py",
   "mimetype": "text/x-python",
   "name": "python",
   "nbconvert_exporter": "python",
   "pygments_lexer": "ipython3",
   "version": "3.10.16"
  }
 },
 "nbformat": 4,
 "nbformat_minor": 2
}
